{
 "cells": [
  {
   "cell_type": "markdown",
   "id": "a0a584f3",
   "metadata": {},
   "source": [
    "# Introduction to pandas library"
   ]
  },
  {
   "cell_type": "markdown",
   "id": "00415ed2",
   "metadata": {},
   "source": [
    "<img style=\"float: right; margin: 0px 0px 3px 3px;\" src=\"https://numfocus.org/wp-content/uploads/2016/07/pandas-logo-300.png\" width=\"100px\" height=\"100px\" />\n",
    "\n",
    "Pandas is library for data manipulation and analysis; it offers data structures and operations for manipulating numerical tables and time series.\n",
    "The following exercises show some examples of how this library can be used for data manipulation:\n"
   ]
  },
  {
   "cell_type": "code",
   "execution_count": 12,
   "id": "c9b0e334",
   "metadata": {},
   "outputs": [],
   "source": [
    "#import library as pd\n",
    "import pandas as pd"
   ]
  },
  {
   "cell_type": "markdown",
   "id": "b94374ae",
   "metadata": {},
   "source": [
    "#### 1. Manipulating weights and heights"
   ]
  },
  {
   "cell_type": "code",
   "execution_count": 13,
   "id": "1416413c",
   "metadata": {},
   "outputs": [
    {
     "name": "stdout",
     "output_type": "stream",
     "text": [
      "    idpersona  peso  estatura\n",
      "0           1    67      1.41\n",
      "1           2    99      1.83\n",
      "2           3    86      1.90\n",
      "3           4   118      1.65\n",
      "4           5   109      1.67\n",
      "..        ...   ...       ...\n",
      "95         96    88      1.49\n",
      "96         97    98      1.54\n",
      "97         98    95      1.57\n",
      "98         99    61      1.61\n",
      "99        100   107      1.62\n",
      "\n",
      "[100 rows x 3 columns]\n"
     ]
    }
   ],
   "source": [
    "# Import excel \n",
    "data=pd.read_excel('01- Datos actividad pandas.xlsx',\n",
    "                    names= ['idpersona', 'peso','estatura']) \n",
    "print(data)"
   ]
  },
  {
   "cell_type": "code",
   "execution_count": 14,
   "id": "92a98476",
   "metadata": {},
   "outputs": [
    {
     "name": "stdout",
     "output_type": "stream",
     "text": [
      "    idpersona  peso  estatura        imc\n",
      "0           1    67      1.41  33.700518\n",
      "1           2    99      1.83  29.561946\n",
      "2           3    86      1.90  23.822715\n",
      "3           4   118      1.65  43.342516\n",
      "4           5   109      1.67  39.083510\n",
      "..        ...   ...       ...        ...\n",
      "95         96    88      1.49  39.637854\n",
      "96         97    98      1.54  41.322314\n",
      "97         98    95      1.57  38.541117\n",
      "98         99    61      1.61  23.533043\n",
      "99        100   107      1.62  40.771224\n",
      "\n",
      "[100 rows x 4 columns]\n"
     ]
    }
   ],
   "source": [
    "#Calculate BMI vector (weight / (height) ** 2)\n",
    "data['imc'] =data['peso'] / (data['estatura'] **2)\n",
    "print(data)"
   ]
  },
  {
   "cell_type": "code",
   "execution_count": 15,
   "id": "51bf63f7",
   "metadata": {},
   "outputs": [
    {
     "name": "stdout",
     "output_type": "stream",
     "text": [
      "Mean of  weights:  85.58  Mean of  heights:  1.6610999999999998\n"
     ]
    }
   ],
   "source": [
    "#Calculate mean of  weights and  mean of  heights\n",
    "media_peso= data['peso'].mean() \n",
    "media_esta =data['estatura'].mean()\n",
    "print('Mean of  weights: ', media_peso,' Mean of  heights: ',  media_esta)"
   ]
  },
  {
   "cell_type": "code",
   "execution_count": 16,
   "id": "e6afe3dd",
   "metadata": {},
   "outputs": [
    {
     "name": "stdout",
     "output_type": "stream",
     "text": [
      "15    16\n",
      "Name: idpersona, dtype: int64\n",
      "57    58\n",
      "83    84\n",
      "Name: idpersona, dtype: int64\n"
     ]
    }
   ],
   "source": [
    "#Print the ID of the heaviest person, of the shortest person\n",
    "id_maxpeso= data[max(data['peso'])== data['peso']]['idpersona']\n",
    "id_minest = data[min(data['estatura'])== data['estatura']]['idpersona']\n",
    "\n",
    "print (id_maxpeso)\n",
    "print( id_minest)\n"
   ]
  },
  {
   "cell_type": "code",
   "execution_count": 17,
   "id": "6fc97206",
   "metadata": {},
   "outputs": [
    {
     "name": "stdout",
     "output_type": "stream",
     "text": [
      "0       1\n",
      "1       2\n",
      "3       4\n",
      "4       5\n",
      "5       6\n",
      "     ... \n",
      "93     94\n",
      "95     96\n",
      "96     97\n",
      "97     98\n",
      "99    100\n",
      "Name: idpersona, Length: 61, dtype: int64\n"
     ]
    }
   ],
   "source": [
    "#Print the vector of IDs where BMI> = 28\n",
    "imcmax= data[(data['imc'] >= 28)]['idpersona']\n",
    "print(imcmax)"
   ]
  },
  {
   "cell_type": "markdown",
   "id": "90bd4563",
   "metadata": {},
   "source": [
    "#### 2. Manipulating sales data "
   ]
  },
  {
   "cell_type": "code",
   "execution_count": 19,
   "id": "5b4790b1",
   "metadata": {},
   "outputs": [],
   "source": [
    "#import excel first sheet name \"vt\"\n",
    "vt = pd.read_excel('01- Datos tarea pandas.xlsx', 'vt', \n",
    "                   names = [ 'Mes', 'Ingreso', 'Gasto'])\n"
   ]
  },
  {
   "cell_type": "code",
   "execution_count": 20,
   "id": "80bbb616",
   "metadata": {},
   "outputs": [
    {
     "name": "stdout",
     "output_type": "stream",
     "text": [
      "           Mes  Ingreso  Gasto\n",
      "0        Enero     2340   1880\n",
      "1      Febrero     3590   3130\n",
      "2        Marzo     4570   2140\n",
      "3        Abril     5450   3370\n",
      "4         Mayo     2330   2990\n",
      "5        Junio     2610   1970\n",
      "6        Julio     2500   2230\n",
      "7       Agosto     3270   1240\n",
      "8   Septiembre     2910   1470\n",
      "9      Octubre     3120   2280\n",
      "10   Noviembre     4950   1870\n",
      "11   Diciembre     2380   3140\n"
     ]
    }
   ],
   "source": [
    "# Modify the DataFrame to increase revenue each month by $ 1000. \n",
    "vt['Ingreso'] += 1000\n",
    "print (vt)"
   ]
  },
  {
   "cell_type": "code",
   "execution_count": 21,
   "id": "06704c21",
   "metadata": {},
   "outputs": [
    {
     "name": "stdout",
     "output_type": "stream",
     "text": [
      "           Mes  Ingreso  Gasto  Utilidad\n",
      "0        Enero     2340   1880       460\n",
      "1      Febrero     3590   3130       460\n",
      "2        Marzo     4570   2140      2430\n",
      "3        Abril     5450   3370      2080\n",
      "4         Mayo     2330   2990      -660\n",
      "5        Junio     2610   1970       640\n",
      "6        Julio     2500   2230       270\n",
      "7       Agosto     3270   1240      2030\n",
      "8   Septiembre     2910   1470      1440\n",
      "9      Octubre     3120   2280       840\n",
      "10   Noviembre     4950   1870      3080\n",
      "11   Diciembre     2380   3140      -760\n"
     ]
    }
   ],
   "source": [
    "#Add a new column 'Utilidad'= (Ingreso - Gasto).\n",
    "vt['Utilidad'] = vt['Ingreso']- vt['Gasto']\n",
    "print (vt)"
   ]
  },
  {
   "cell_type": "code",
   "execution_count": 22,
   "id": "3e33874a",
   "metadata": {},
   "outputs": [
    {
     "name": "stdout",
     "output_type": "stream",
     "text": [
      "The average expense in the months in which the profit was negative was e:  3065.0\n"
     ]
    }
   ],
   "source": [
    "#Find the average of Spending in the months in which the Profit was negative. \n",
    "utilidad_negativa = vt[ vt['Utilidad'] < 0]['Gasto']\n",
    "print('The average expense in the months in which the profit was negative was e: ',\n",
    "      utilidad_negativa.mean())\n"
   ]
  },
  {
   "cell_type": "code",
   "execution_count": 23,
   "id": "e6f6d9e5",
   "metadata": {},
   "outputs": [
    {
     "name": "stdout",
     "output_type": "stream",
     "text": [
      "Total income for the year was: 40020\n"
     ]
    }
   ],
   "source": [
    "#Find the total income for the year. \n",
    "ingreso_total = sum( vt['Ingreso'])\n",
    "print('Total income for the year was:', ingreso_total)"
   ]
  },
  {
   "cell_type": "code",
   "execution_count": 24,
   "id": "7d370419",
   "metadata": {},
   "outputs": [
    {
     "name": "stdout",
     "output_type": "stream",
     "text": [
      "Los meses son ultidad postiva son:  ['Enero', 'Febrero', 'Marzo', 'Abril', 'Junio', 'Julio', 'Agosto', 'Septiembre', 'Octubre', 'Noviembre']\n",
      "Los meses son ultidad postiva son:  ['Enero' 'Febrero' 'Marzo' 'Abril' 'Junio' 'Julio' 'Agosto' 'Septiembre'\n",
      " 'Octubre' 'Noviembre']\n"
     ]
    }
   ],
   "source": [
    "# Find the list of the months in which the Profit was positive.\n",
    "utilidad_positiva= vt[ vt['Utilidad'] >= 0]['Mes']\n",
    "#Option 1 - pass variable from string type to list\n",
    "meses_positivo = utilidad_positiva.tolist()\n",
    "print('Los meses son ultidad postiva son: ', meses_positivo )\n",
    "#Option 2 - bring the values of the series\n",
    "print('Los meses son ultidad postiva son: ', utilidad_positiva.values)\n"
   ]
  },
  {
   "cell_type": "code",
   "execution_count": 25,
   "id": "f0c39cbe",
   "metadata": {},
   "outputs": [],
   "source": [
    "#import sheet  \"8c\", changing the first column to index.\n",
    "cd= pd.read_excel('01- Datos tarea pandas.xlsx', '8c', index_col=0) "
   ]
  },
  {
   "cell_type": "code",
   "execution_count": 26,
   "id": "92e4b312",
   "metadata": {},
   "outputs": [
    {
     "name": "stdout",
     "output_type": "stream",
     "text": [
      "               Tijuana       Mérida          GDL       México         León  \\\n",
      "Tijuana       0.000000  2597.886886  1433.188316  1770.043505  1571.783717   \n",
      "Mérida     2597.886886     0.000000  1164.698571   827.843381  1068.365444   \n",
      "GDL        1433.188316  1164.698571     0.000000   336.855190   138.595401   \n",
      "México     1770.043505   827.843381   336.855190     0.000000   241.765071   \n",
      "León       1571.783717  1068.365444   138.595401   241.765071     0.000000   \n",
      "Monterrey  1497.203232  1271.597265   490.366687   579.863269   441.889372   \n",
      "Tapachula  2489.123679   660.037290  1055.935364   719.080174   959.602237   \n",
      "Chihuahua   983.840895  1752.019888   747.047856   924.176507   708.514605   \n",
      "\n",
      "             Monterrey    Tapachula    Chihuahua  \n",
      "Tijuana    1497.203232  2489.123679   983.840895  \n",
      "Mérida     1271.597265   660.037290  1752.019888  \n",
      "GDL         490.366687  1055.935364   747.047856  \n",
      "México      579.863269   719.080174   924.176507  \n",
      "León        441.889372   959.602237   708.514605  \n",
      "Monterrey     0.000000  1120.571784   513.362337  \n",
      "Tapachula  1120.571784     0.000000  1643.256681  \n",
      "Chihuahua   513.362337  1643.256681     0.000000  \n"
     ]
    }
   ],
   "source": [
    "#Convert all values to miles (km / 1,609) \n",
    "cd = cd.div(1.609)\n",
    "print(cd)\n"
   ]
  },
  {
   "cell_type": "code",
   "execution_count": 27,
   "id": "79f0ac84",
   "metadata": {},
   "outputs": [
    {
     "name": "stdout",
     "output_type": "stream",
     "text": [
      "Tijuana      1433.188316\n",
      "Mérida       1164.698571\n",
      "GDL             0.000000\n",
      "México        336.855190\n",
      "León          138.595401\n",
      "Monterrey     490.366687\n",
      "Tapachula    1055.935364\n",
      "Chihuahua     747.047856\n",
      "Name: GDL, dtype: float64\n",
      "Tijuana      1433.188316\n",
      "Mérida       1164.698571\n",
      "México        336.855190\n",
      "León          138.595401\n",
      "Monterrey     490.366687\n",
      "Tapachula    1055.935364\n",
      "Chihuahua     747.047856\n",
      "Name: GDL, dtype: float64\n"
     ]
    }
   ],
   "source": [
    "#Generate a series called gdl with the distances from Guadalajara to all cities.\n",
    "\n",
    "#including GDl \n",
    "gdl = cd['GDL'] \n",
    "print(gdl)\n",
    "# Not including GDL\n",
    "gdl_sin_gdl =gdl.drop(labels=['GDL'])\n",
    "print(gdl_sin_gdl)\n"
   ]
  },
  {
   "cell_type": "code",
   "execution_count": null,
   "id": "d199ca61",
   "metadata": {},
   "outputs": [],
   "source": [
    "#Find the list of cities that are more than 1000 miles from Guadalajara.\n",
    "dist_gdl = gdl[gdl >= 1000]\n",
    "print('Las ciuidadess que están a de 1000 millas de Guadalajara son:\\n',dist_gdl)"
   ]
  }
 ],
 "metadata": {
  "kernelspec": {
   "display_name": "Python 3",
   "language": "python",
   "name": "python3"
  },
  "language_info": {
   "codemirror_mode": {
    "name": "ipython",
    "version": 3
   },
   "file_extension": ".py",
   "mimetype": "text/x-python",
   "name": "python",
   "nbconvert_exporter": "python",
   "pygments_lexer": "ipython3",
   "version": "3.8.8"
  }
 },
 "nbformat": 4,
 "nbformat_minor": 5
}
